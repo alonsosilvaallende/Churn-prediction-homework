{
 "cells": [
  {
   "cell_type": "markdown",
   "metadata": {
    "slideshow": {
     "slide_type": "slide"
    }
   },
   "source": [
    "# Churn prediction in a telco\n",
    "\n",
    "Treselle Systems, a data consulting service, [analyzed customer churn data using logistic regression](http://www.treselle.com/blog/customer-churn-logistic-regression-with-r/).\n",
    "\n",
    "We will use that dataset to do our analysis. The dataset includes information about:\n",
    "\n",
    "+ Customers who left within the last month: the column is called Churn\n",
    "+ Services that each customer has signed up for: phone, multiple lines, internet, online security, online backup, device protection, tech support, and streaming TV and movies\n",
    "+ Customer account information: how long they've been a customer, contract, payment method, paperless billing, monthly charges, and total charges\n",
    "+ Demographic info about customers: gender, age range, and if they have partners and dependents"
   ]
  },
  {
   "cell_type": "code",
   "execution_count": 1,
   "metadata": {},
   "outputs": [],
   "source": [
    "import matplotlib.pyplot as plt\n",
    "import pandas as pd\n",
    "import numpy as np\n",
    "plt.style.use('seaborn')"
   ]
  },
  {
   "cell_type": "code",
   "execution_count": 2,
   "metadata": {
    "ExecuteTime": {
     "end_time": "2020-01-09T22:37:18.227285Z",
     "start_time": "2020-01-09T22:37:18.131371Z"
    },
    "slideshow": {
     "slide_type": "skip"
    }
   },
   "outputs": [],
   "source": [
    "churn_data = pd.read_csv(\n",
    "'https://raw.githubusercontent.com/treselle-systems/customer_churn_analysis/master/WA_Fn-UseC_-Telco-Customer-Churn.csv')"
   ]
  },
  {
   "cell_type": "code",
   "execution_count": 5,
   "metadata": {
    "ExecuteTime": {
     "end_time": "2020-01-09T22:37:18.287007Z",
     "start_time": "2020-01-09T22:37:18.264485Z"
    },
    "scrolled": false,
    "slideshow": {
     "slide_type": "slide"
    }
   },
   "outputs": [
    {
     "data": {
      "text/html": [
       "<div>\n",
       "<style scoped>\n",
       "    .dataframe tbody tr th:only-of-type {\n",
       "        vertical-align: middle;\n",
       "    }\n",
       "\n",
       "    .dataframe tbody tr th {\n",
       "        vertical-align: top;\n",
       "    }\n",
       "\n",
       "    .dataframe thead th {\n",
       "        text-align: right;\n",
       "    }\n",
       "</style>\n",
       "<table border=\"1\" class=\"dataframe\">\n",
       "  <thead>\n",
       "    <tr style=\"text-align: right;\">\n",
       "      <th></th>\n",
       "      <th>0</th>\n",
       "      <th>1</th>\n",
       "      <th>2</th>\n",
       "      <th>3</th>\n",
       "      <th>4</th>\n",
       "    </tr>\n",
       "  </thead>\n",
       "  <tbody>\n",
       "    <tr>\n",
       "      <th>customerID</th>\n",
       "      <td>7590-VHVEG</td>\n",
       "      <td>5575-GNVDE</td>\n",
       "      <td>3668-QPYBK</td>\n",
       "      <td>7795-CFOCW</td>\n",
       "      <td>9237-HQITU</td>\n",
       "    </tr>\n",
       "    <tr>\n",
       "      <th>gender</th>\n",
       "      <td>Female</td>\n",
       "      <td>Male</td>\n",
       "      <td>Male</td>\n",
       "      <td>Male</td>\n",
       "      <td>Female</td>\n",
       "    </tr>\n",
       "    <tr>\n",
       "      <th>SeniorCitizen</th>\n",
       "      <td>0</td>\n",
       "      <td>0</td>\n",
       "      <td>0</td>\n",
       "      <td>0</td>\n",
       "      <td>0</td>\n",
       "    </tr>\n",
       "    <tr>\n",
       "      <th>Partner</th>\n",
       "      <td>Yes</td>\n",
       "      <td>No</td>\n",
       "      <td>No</td>\n",
       "      <td>No</td>\n",
       "      <td>No</td>\n",
       "    </tr>\n",
       "    <tr>\n",
       "      <th>Dependents</th>\n",
       "      <td>No</td>\n",
       "      <td>No</td>\n",
       "      <td>No</td>\n",
       "      <td>No</td>\n",
       "      <td>No</td>\n",
       "    </tr>\n",
       "    <tr>\n",
       "      <th>tenure</th>\n",
       "      <td>1</td>\n",
       "      <td>34</td>\n",
       "      <td>2</td>\n",
       "      <td>45</td>\n",
       "      <td>2</td>\n",
       "    </tr>\n",
       "    <tr>\n",
       "      <th>PhoneService</th>\n",
       "      <td>No</td>\n",
       "      <td>Yes</td>\n",
       "      <td>Yes</td>\n",
       "      <td>No</td>\n",
       "      <td>Yes</td>\n",
       "    </tr>\n",
       "    <tr>\n",
       "      <th>MultipleLines</th>\n",
       "      <td>No phone service</td>\n",
       "      <td>No</td>\n",
       "      <td>No</td>\n",
       "      <td>No phone service</td>\n",
       "      <td>No</td>\n",
       "    </tr>\n",
       "    <tr>\n",
       "      <th>InternetService</th>\n",
       "      <td>DSL</td>\n",
       "      <td>DSL</td>\n",
       "      <td>DSL</td>\n",
       "      <td>DSL</td>\n",
       "      <td>Fiber optic</td>\n",
       "    </tr>\n",
       "    <tr>\n",
       "      <th>OnlineSecurity</th>\n",
       "      <td>No</td>\n",
       "      <td>Yes</td>\n",
       "      <td>Yes</td>\n",
       "      <td>Yes</td>\n",
       "      <td>No</td>\n",
       "    </tr>\n",
       "    <tr>\n",
       "      <th>OnlineBackup</th>\n",
       "      <td>Yes</td>\n",
       "      <td>No</td>\n",
       "      <td>Yes</td>\n",
       "      <td>No</td>\n",
       "      <td>No</td>\n",
       "    </tr>\n",
       "    <tr>\n",
       "      <th>DeviceProtection</th>\n",
       "      <td>No</td>\n",
       "      <td>Yes</td>\n",
       "      <td>No</td>\n",
       "      <td>Yes</td>\n",
       "      <td>No</td>\n",
       "    </tr>\n",
       "    <tr>\n",
       "      <th>TechSupport</th>\n",
       "      <td>No</td>\n",
       "      <td>No</td>\n",
       "      <td>No</td>\n",
       "      <td>Yes</td>\n",
       "      <td>No</td>\n",
       "    </tr>\n",
       "    <tr>\n",
       "      <th>StreamingTV</th>\n",
       "      <td>No</td>\n",
       "      <td>No</td>\n",
       "      <td>No</td>\n",
       "      <td>No</td>\n",
       "      <td>No</td>\n",
       "    </tr>\n",
       "    <tr>\n",
       "      <th>StreamingMovies</th>\n",
       "      <td>No</td>\n",
       "      <td>No</td>\n",
       "      <td>No</td>\n",
       "      <td>No</td>\n",
       "      <td>No</td>\n",
       "    </tr>\n",
       "    <tr>\n",
       "      <th>Contract</th>\n",
       "      <td>Month-to-month</td>\n",
       "      <td>One year</td>\n",
       "      <td>Month-to-month</td>\n",
       "      <td>One year</td>\n",
       "      <td>Month-to-month</td>\n",
       "    </tr>\n",
       "    <tr>\n",
       "      <th>PaperlessBilling</th>\n",
       "      <td>Yes</td>\n",
       "      <td>No</td>\n",
       "      <td>Yes</td>\n",
       "      <td>No</td>\n",
       "      <td>Yes</td>\n",
       "    </tr>\n",
       "    <tr>\n",
       "      <th>PaymentMethod</th>\n",
       "      <td>Electronic check</td>\n",
       "      <td>Mailed check</td>\n",
       "      <td>Mailed check</td>\n",
       "      <td>Bank transfer (automatic)</td>\n",
       "      <td>Electronic check</td>\n",
       "    </tr>\n",
       "    <tr>\n",
       "      <th>MonthlyCharges</th>\n",
       "      <td>29.85</td>\n",
       "      <td>56.95</td>\n",
       "      <td>53.85</td>\n",
       "      <td>42.3</td>\n",
       "      <td>70.7</td>\n",
       "    </tr>\n",
       "    <tr>\n",
       "      <th>TotalCharges</th>\n",
       "      <td>29.85</td>\n",
       "      <td>1889.5</td>\n",
       "      <td>108.15</td>\n",
       "      <td>1840.75</td>\n",
       "      <td>151.65</td>\n",
       "    </tr>\n",
       "    <tr>\n",
       "      <th>Churn</th>\n",
       "      <td>No</td>\n",
       "      <td>No</td>\n",
       "      <td>Yes</td>\n",
       "      <td>No</td>\n",
       "      <td>Yes</td>\n",
       "    </tr>\n",
       "  </tbody>\n",
       "</table>\n",
       "</div>"
      ],
      "text/plain": [
       "                                 0             1               2  \\\n",
       "customerID              7590-VHVEG    5575-GNVDE      3668-QPYBK   \n",
       "gender                      Female          Male            Male   \n",
       "SeniorCitizen                    0             0               0   \n",
       "Partner                        Yes            No              No   \n",
       "Dependents                      No            No              No   \n",
       "tenure                           1            34               2   \n",
       "PhoneService                    No           Yes             Yes   \n",
       "MultipleLines     No phone service            No              No   \n",
       "InternetService                DSL           DSL             DSL   \n",
       "OnlineSecurity                  No           Yes             Yes   \n",
       "OnlineBackup                   Yes            No             Yes   \n",
       "DeviceProtection                No           Yes              No   \n",
       "TechSupport                     No            No              No   \n",
       "StreamingTV                     No            No              No   \n",
       "StreamingMovies                 No            No              No   \n",
       "Contract            Month-to-month      One year  Month-to-month   \n",
       "PaperlessBilling               Yes            No             Yes   \n",
       "PaymentMethod     Electronic check  Mailed check    Mailed check   \n",
       "MonthlyCharges               29.85         56.95           53.85   \n",
       "TotalCharges                 29.85        1889.5          108.15   \n",
       "Churn                           No            No             Yes   \n",
       "\n",
       "                                          3                 4  \n",
       "customerID                       7795-CFOCW        9237-HQITU  \n",
       "gender                                 Male            Female  \n",
       "SeniorCitizen                             0                 0  \n",
       "Partner                                  No                No  \n",
       "Dependents                               No                No  \n",
       "tenure                                   45                 2  \n",
       "PhoneService                             No               Yes  \n",
       "MultipleLines              No phone service                No  \n",
       "InternetService                         DSL       Fiber optic  \n",
       "OnlineSecurity                          Yes                No  \n",
       "OnlineBackup                             No                No  \n",
       "DeviceProtection                        Yes                No  \n",
       "TechSupport                             Yes                No  \n",
       "StreamingTV                              No                No  \n",
       "StreamingMovies                          No                No  \n",
       "Contract                           One year    Month-to-month  \n",
       "PaperlessBilling                         No               Yes  \n",
       "PaymentMethod     Bank transfer (automatic)  Electronic check  \n",
       "MonthlyCharges                         42.3              70.7  \n",
       "TotalCharges                        1840.75            151.65  \n",
       "Churn                                    No               Yes  "
      ]
     },
     "execution_count": 5,
     "metadata": {},
     "output_type": "execute_result"
    }
   ],
   "source": [
    "churn_data.head().T"
   ]
  },
  {
   "cell_type": "code",
   "execution_count": 6,
   "metadata": {
    "ExecuteTime": {
     "end_time": "2020-01-09T22:37:18.251731Z",
     "start_time": "2020-01-09T22:37:18.229450Z"
    },
    "slideshow": {
     "slide_type": "slide"
    }
   },
   "outputs": [
    {
     "name": "stdout",
     "output_type": "stream",
     "text": [
      "customers: 7043\n",
      "\n",
      "customers who churned: 1869\n",
      "customers who haven't churned yet: 5174\n",
      "\n",
      "percentage of customers who churned: 27%\n",
      "percentage of customers who haven't churned yet: 73%\n"
     ]
    }
   ],
   "source": [
    "N = churn_data.shape[0]\n",
    "churned = len(churn_data.query(\"Churn == 'Yes'\"))\n",
    "notChurned = len(churn_data.query(\"Churn == 'No'\"))\n",
    "\n",
    "print(f'customers: {N}\\n')\n",
    "print(f\"customers who churned: {churned}\")\n",
    "print(f\"customers who haven't churned yet: {notChurned}\\n\")\n",
    "print(f'percentage of customers who churned: {100*churned/len(churn_data):.0f}%')\n",
    "print(f\"percentage of customers who haven't churned yet: {100*notChurned/len(churn_data):.0f}%\")"
   ]
  },
  {
   "cell_type": "code",
   "execution_count": 7,
   "metadata": {
    "ExecuteTime": {
     "end_time": "2020-01-09T22:37:18.305561Z",
     "start_time": "2020-01-09T22:37:18.288618Z"
    },
    "slideshow": {
     "slide_type": "skip"
    }
   },
   "outputs": [],
   "source": [
    "churn_data['Churn'] = churn_data['Churn'] == 'Yes'"
   ]
  },
  {
   "cell_type": "code",
   "execution_count": 8,
   "metadata": {
    "ExecuteTime": {
     "end_time": "2020-01-09T22:37:18.262702Z",
     "start_time": "2020-01-09T22:37:18.254982Z"
    },
    "slideshow": {
     "slide_type": "skip"
    }
   },
   "outputs": [],
   "source": [
    "# Drop customerID column\n",
    "churn_data = churn_data.drop('customerID', axis=1)\n",
    "\n",
    "# Drop TotalCharges column: otherwise together with MonthlyCharges you can deduce how many months you have been subscribed\n",
    "churn_data = churn_data.drop('TotalCharges', axis=1)"
   ]
  },
  {
   "cell_type": "code",
   "execution_count": 56,
   "metadata": {
    "ExecuteTime": {
     "end_time": "2020-01-09T22:37:18.691230Z",
     "start_time": "2020-01-09T22:37:18.307317Z"
    },
    "scrolled": false,
    "slideshow": {
     "slide_type": "slide"
    }
   },
   "outputs": [
    {
     "data": {
      "image/png": "[encoded data removed]",
      "text/plain": [
       "<Figure size 720x504 with 1 Axes>"
      ]
     },
     "metadata": {},
     "output_type": "display_data"
    }
   ],
   "source": [
    "from lifelines import KaplanMeierFitter\n",
    "kmf = KaplanMeierFitter()\n",
    "kmf.fit(churn_data['tenure'], churn_data['Churn'], label='Estimate for Average Customer')\n",
    "fig, ax = plt.subplots(figsize=(10,7))\n",
    "kmf.plot(ax=ax)\n",
    "ax.set_title('Kaplan-Meier Survival Curve - All Customers')\n",
    "ax.set_xlabel('Customer Tenure (Months)')\n",
    "ax.set_ylabel('Customer Survival Chance (%)')\n",
    "plt.show()"
   ]
  },
  {
   "cell_type": "code",
   "execution_count": 11,
   "metadata": {},
   "outputs": [],
   "source": [
    "import altair as alt"
   ]
  },
  {
   "cell_type": "code",
   "execution_count": 116,
   "metadata": {},
   "outputs": [],
   "source": [
    "data = pd.DataFrame()\n",
    "data = kmf.survival_function_\n",
    "data['lower'] = kmf.confidence_interval_['Estimate for Average Customer_lower_0.95']\n",
    "data['upper'] = kmf.confidence_interval_['Estimate for Average Customer_upper_0.95']"
   ]
  },
  {
   "cell_type": "code",
   "execution_count": 135,
   "metadata": {
    "scrolled": true
   },
   "outputs": [
    {
     "data": {
      "text/html": [
       "\n",
       "<div id=\"altair-viz-c4d1f4f2e13b442f85f11fd492268ebc\"></div>\n",
       "<script type=\"text/javascript\">\n",
       "  (function(spec, embedOpt){\n",
       "    let outputDiv = document.currentScript.previousElementSibling;\n",
       "    if (outputDiv.id !== \"altair-viz-c4d1f4f2e13b442f85f11fd492268ebc\") {\n",
       "      outputDiv = document.getElementById(\"altair-viz-c4d1f4f2e13b442f85f11fd492268ebc\");\n",
       "    }\n",
       "    const paths = {\n",
       "      \"vega\": \"https://cdn.jsdelivr.net/npm//vega@5?noext\",\n",
       "      \"vega-lib\": \"https://cdn.jsdelivr.net/npm//vega-lib?noext\",\n",
       "      \"vega-lite\": \"https://cdn.jsdelivr.net/npm//vega-lite@4.8.1?noext\",\n",
       "      \"vega-embed\": \"https://cdn.jsdelivr.net/npm//vega-embed@6?noext\",\n",
       "    };\n",
       "\n",
       "    function loadScript(lib) {\n",
       "      return new Promise(function(resolve, reject) {\n",
       "        var s = document.createElement('script');\n",
       "        s.src = paths[lib];\n",
       "        s.async = true;\n",
       "        s.onload = () => resolve(paths[lib]);\n",
       "        s.onerror = () => reject(`Error loading script: ${paths[lib]}`);\n",
       "        document.getElementsByTagName(\"head\")[0].appendChild(s);\n",
       "      });\n",
       "    }\n",
       "\n",
       "    function showError(err) {\n",
       "      outputDiv.innerHTML = `<div class=\"error\" style=\"color:red;\">${err}</div>`;\n",
       "      throw err;\n",
       "    }\n",
       "\n",
       "    function displayChart(vegaEmbed) {\n",
       "      vegaEmbed(outputDiv, spec, embedOpt)\n",
       "        .catch(err => showError(`Javascript Error: ${err.message}<br>This usually means there's a typo in your chart specification. See the javascript console for the full traceback.`));\n",
       "    }\n",
       "\n",
       "    if(typeof define === \"function\" && define.amd) {\n",
       "      requirejs.config({paths});\n",
       "      require([\"vega-embed\"], displayChart, err => showError(`Error loading script: ${err.message}`));\n",
       "    } else if (typeof vegaEmbed === \"function\") {\n",
       "      displayChart(vegaEmbed);\n",
       "    } else {\n",
       "      loadScript(\"vega\")\n",
       "        .then(() => loadScript(\"vega-lite\"))\n",
       "        .then(() => loadScript(\"vega-embed\"))\n",
       "        .catch(showError)\n",
       "        .then(() => displayChart(vegaEmbed));\n",
       "    }\n",
       "  })({\"config\": {\"view\": {\"continuousWidth\": 400, \"continuousHeight\": 300}}, \"layer\": [{\"data\": {\"name\": \"data-c911a4d85938b30b1fd9dfeb015e0ec2\"}, \"mark\": {\"type\": \"line\", \"point\": false}, \"encoding\": {\"color\": {\"value\": \"blue\"}, \"tooltip\": [{\"type\": \"quantitative\", \"field\": \"timeline\"}, {\"type\": \"quantitative\", \"field\": \"Estimate for Average Customer\"}], \"x\": {\"type\": \"quantitative\", \"axis\": {\"title\": \"Customer tenure (months)\"}, \"field\": \"timeline\", \"scale\": {\"zero\": false}}, \"y\": {\"type\": \"quantitative\", \"axis\": {\"title\": \"Customer survival probability\"}, \"field\": \"Estimate for Average Customer\", \"scale\": {\"zero\": false}}}}, {\"data\": {\"name\": \"data-c911a4d85938b30b1fd9dfeb015e0ec2\"}, \"mark\": {\"type\": \"area\", \"opacity\": 0.5}, \"encoding\": {\"x\": {\"type\": \"quantitative\", \"field\": \"timeline\", \"scale\": {\"zero\": false}}, \"y\": {\"type\": \"quantitative\", \"field\": \"lower\"}, \"y2\": {\"field\": \"upper\"}}}, {\"mark\": {\"type\": \"rule\", \"color\": \"#aaa\"}, \"encoding\": {\"x\": {\"type\": \"quantitative\", \"field\": \"timeline\", \"scale\": {\"zero\": false}, \"sort\": null}}, \"transform\": [{\"filter\": {\"selection\": \"selector044\"}}]}, {\"data\": {\"name\": \"data-c911a4d85938b30b1fd9dfeb015e0ec2\"}, \"mark\": {\"type\": \"circle\", \"size\": 80}, \"encoding\": {\"opacity\": {\"condition\": {\"value\": 1, \"selection\": \"selector044\"}, \"value\": 0}, \"x\": {\"type\": \"quantitative\", \"axis\": {\"title\": \"Customer tenure (months)\"}, \"field\": \"timeline\", \"scale\": {\"zero\": false}}, \"y\": {\"type\": \"quantitative\", \"axis\": {\"title\": \"Customer survival probability\"}, \"field\": \"Estimate for Average Customer\", \"scale\": {\"zero\": false}}}, \"selection\": {\"selector044\": {\"type\": \"single\", \"encodings\": [\"x\"], \"on\": \"mouseover\", \"nearest\": true, \"empty\": \"none\"}}}, {\"data\": {\"name\": \"data-c911a4d85938b30b1fd9dfeb015e0ec2\"}, \"mark\": {\"type\": \"text\", \"align\": \"left\", \"dx\": 5, \"dy\": -5, \"stroke\": \"white\", \"strokeWidth\": 2}, \"encoding\": {\"text\": {\"type\": \"quantitative\", \"field\": \"Estimate for Average Customer\"}, \"x\": {\"type\": \"quantitative\", \"axis\": {\"title\": \"Customer tenure (months)\"}, \"field\": \"timeline\", \"scale\": {\"zero\": false}}}, \"transform\": [{\"filter\": {\"selection\": \"selector044\"}}]}, {\"data\": {\"name\": \"data-c911a4d85938b30b1fd9dfeb015e0ec2\"}, \"mark\": {\"type\": \"text\", \"align\": \"left\", \"dx\": 5, \"dy\": -5}, \"encoding\": {\"text\": {\"type\": \"quantitative\", \"field\": \"Estimate for Average Customer\"}, \"x\": {\"type\": \"quantitative\", \"axis\": {\"title\": \"Customer tenure (months)\"}, \"field\": \"timeline\", \"scale\": {\"zero\": false}}}, \"transform\": [{\"filter\": {\"selection\": \"selector044\"}}]}], \"data\": {\"name\": \"data-c911a4d85938b30b1fd9dfeb015e0ec2\"}, \"title\": \"Kaplan-Meier Survival Curve - All Customers\", \"width\": 600, \"$schema\": \"https://vega.github.io/schema/vega-lite/v4.8.1.json\", \"datasets\": {\"data-c911a4d85938b30b1fd9dfeb015e0ec2\": [{\"timeline\": 0.0, \"Estimate for Average Customer\": 1.0, \"lower\": 1.0, \"upper\": 1.0}, {\"timeline\": 1.0, \"Estimate for Average Customer\": 0.9459613196814566, \"lower\": 0.9404183713158356, \"upper\": 0.9510021209572403}, {\"timeline\": 2.0, \"Estimate for Average Customer\": 0.9278349382636628, \"lower\": 0.9215059899590076, \"upper\": 0.9336721186843941}, {\"timeline\": 3.0, \"Estimate for Average Customer\": 0.9137245217943558, \"lower\": 0.9068570856457402, \"upper\": 0.9201081780961634}, {\"timeline\": 4.0, \"Estimate for Average Customer\": 0.9010445125469171, \"lower\": 0.8937333460911131, \"upper\": 0.9078789401526071}, {\"timeline\": 5.0, \"Estimate for Average Customer\": 0.8911105161984236, \"lower\": 0.8834732306073576, \"upper\": 0.8982764957239141}, {\"timeline\": 6.0, \"Estimate for Average Customer\": 0.8848262389332724, \"lower\": 0.8769910175693204, \"upper\": 0.8921935526017892}, {\"timeline\": 7.0, \"Estimate for Average Customer\": 0.8767129454802709, \"lower\": 0.8686302744761023, \"upper\": 0.8843320072393812}, {\"timeline\": 8.0, \"Estimate for Average Customer\": 0.8699329889878812, \"lower\": 0.8616495182497433, \"upper\": 0.8777563360010985}, {\"timeline\": 9.0, \"Estimate for Average Customer\": 0.862394006792432, \"lower\": 0.8538928337872115, \"upper\": 0.8704388125380358}, {\"timeline\": 10.0, \"Estimate for Average Customer\": 0.854915161098529, \"lower\": 0.8462039691721595, \"upper\": 0.8631736733837074}, {\"timeline\": 11.0, \"Estimate for Average Customer\": 0.8496909604294861, \"lower\": 0.8408359247763904, \"upper\": 0.8580958350839235}, {\"timeline\": 12.0, \"Estimate for Average Customer\": 0.8431995538158302, \"lower\": 0.834168685811462, \"upper\": 0.8517833206931235}, {\"timeline\": 13.0, \"Estimate for Average Customer\": 0.8366025632774321, \"lower\": 0.8273958732708122, \"upper\": 0.84536517439355}, {\"timeline\": 14.0, \"Estimate for Average Customer\": 0.8323737381892569, \"lower\": 0.8230555387776636, \"upper\": 0.841249734571825}, {\"timeline\": 15.0, \"Estimate for Average Customer\": 0.8257817372660968, \"lower\": 0.8162924499579037, \"upper\": 0.8348317518565246}, {\"timeline\": 16.0, \"Estimate for Average Customer\": 0.8207255621855252, \"lower\": 0.811106906401148, \"upper\": 0.8299071739485888}, {\"timeline\": 17.0, \"Estimate for Average Customer\": 0.8159762043807567, \"lower\": 0.8062374084341788, \"upper\": 0.82528003664297}, {\"timeline\": 18.0, \"Estimate for Average Customer\": 0.8115314860636578, \"lower\": 0.8016809173680022, \"upper\": 0.8209489863094623}, {\"timeline\": 19.0, \"Estimate for Average Customer\": 0.8079531388287515, \"lower\": 0.798012367175139, \"upper\": 0.8174622790431181}, {\"timeline\": 20.0, \"Estimate for Average Customer\": 0.8045199101935029, \"lower\": 0.7944926763694108, \"upper\": 0.8141168446808157}, {\"timeline\": 21.0, \"Estimate for Average Customer\": 0.8012361554580191, \"lower\": 0.7911262275701932, \"upper\": 0.8109170130349665}, {\"timeline\": 22.0, \"Estimate for Average Customer\": 0.7959622948540777, \"lower\": 0.7857205720282491, \"upper\": 0.8057769198289992}, {\"timeline\": 23.0, \"Estimate for Average Customer\": 0.7933831548159159, \"lower\": 0.7830768790035613, \"upper\": 0.8032632537959522}, {\"timeline\": 24.0, \"Estimate for Average Customer\": 0.7887363983705965, \"lower\": 0.7783129555299131, \"upper\": 0.798735202136176}, {\"timeline\": 25.0, \"Estimate for Average Customer\": 0.7840035684299431, \"lower\": 0.7734606163306005, \"upper\": 0.7941233735135383}, {\"timeline\": 26.0, \"Estimate for Average Customer\": 0.78087089567383, \"lower\": 0.7702488090051803, \"upper\": 0.7910707907978789}, {\"timeline\": 27.0, \"Estimate for Average Customer\": 0.7781086312809701, \"lower\": 0.7674160577861241, \"upper\": 0.7883797833200772}, {\"timeline\": 28.0, \"Estimate for Average Customer\": 0.7755170954565537, \"lower\": 0.7647577267893169, \"upper\": 0.7858557012640619}, {\"timeline\": 29.0, \"Estimate for Average Customer\": 0.7722365662879559, \"lower\": 0.761392420324585, \"upper\": 0.7826607509843774}, {\"timeline\": 30.0, \"Estimate for Average Customer\": 0.7686799211927888, \"lower\": 0.7577433426203282, \"upper\": 0.7791973520011836}, {\"timeline\": 31.0, \"Estimate for Average Customer\": 0.7650647304993484, \"lower\": 0.7540337514754943, \"upper\": 0.7756773411800988}, {\"timeline\": 32.0, \"Estimate for Average Customer\": 0.7607086532205094, \"lower\": 0.7495639740543699, \"upper\": 0.7714358919002775}, {\"timeline\": 33.0, \"Estimate for Average Customer\": 0.7574498034209116, \"lower\": 0.7462199150029253, \"upper\": 0.7682629264281162}, {\"timeline\": 34.0, \"Estimate for Average Customer\": 0.7546129127713944, \"lower\": 0.7433083428939619, \"upper\": 0.7655012642310856}, {\"timeline\": 35.0, \"Estimate for Average Customer\": 0.7510069256125633, \"lower\": 0.7396066912924588, \"upper\": 0.7619915810379179}, {\"timeline\": 36.0, \"Estimate for Average Customer\": 0.7485454148763702, \"lower\": 0.7370785621208633, \"upper\": 0.7595970312942879}, {\"timeline\": 37.0, \"Estimate for Average Customer\": 0.7448039349619592, \"lower\": 0.7332355622236266, \"upper\": 0.7559575770131214}, {\"timeline\": 38.0, \"Estimate for Average Customer\": 0.7415060973752753, \"lower\": 0.7298477058195078, \"upper\": 0.7527501715335171}, {\"timeline\": 39.0, \"Estimate for Average Customer\": 0.7378977951982666, \"lower\": 0.7261404450815181, \"upper\": 0.7492412557752938}, {\"timeline\": 40.0, \"Estimate for Average Customer\": 0.7344973445291503, \"lower\": 0.7226464865355982, \"upper\": 0.7459347086154924}, {\"timeline\": 41.0, \"Estimate for Average Customer\": 0.7307675792685739, \"lower\": 0.718813324657747, \"upper\": 0.7423087300192401}, {\"timeline\": 42.0, \"Estimate for Average Customer\": 0.7269600816467797, \"lower\": 0.7148991560020901, \"upper\": 0.7386082428763483}, {\"timeline\": 43.0, \"Estimate for Average Customer\": 0.7228012711110432, \"lower\": 0.7106230187730818, \"upper\": 0.7345670985744338}, {\"timeline\": 44.0, \"Estimate for Average Customer\": 0.7211052180697188, \"lower\": 0.7088784590135658, \"upper\": 0.7329196547767036}, {\"timeline\": 45.0, \"Estimate for Average Customer\": 0.7193787091677161, \"lower\": 0.7071016548595497, \"upper\": 0.7312434901038949}, {\"timeline\": 46.0, \"Estimate for Average Customer\": 0.7158480161165857, \"lower\": 0.7034660682549528, \"upper\": 0.7278176757076321}, {\"timeline\": 47.0, \"Estimate for Average Customer\": 0.7116211615296467, \"lower\": 0.6991114342385604, \"upper\": 0.7237184770494878}, {\"timeline\": 48.0, \"Estimate for Average Customer\": 0.7088401843460741, \"lower\": 0.696245083070984, \"upper\": 0.7210227332102614}, {\"timeline\": 49.0, \"Estimate for Average Customer\": 0.7040913666751537, \"lower\": 0.6913482448254978, \"upper\": 0.7164216030931225}, {\"timeline\": 50.0, \"Estimate for Average Customer\": 0.7008511855123595, \"lower\": 0.6880058448875696, \"upper\": 0.7132833750752133}, {\"timeline\": 51.0, \"Estimate for Average Customer\": 0.6981876180614814, \"lower\": 0.685256130132329, \"upper\": 0.7107056284968808}, {\"timeline\": 52.0, \"Estimate for Average Customer\": 0.6954455950155849, \"lower\": 0.6824228100028451, \"upper\": 0.7080544290948518}, {\"timeline\": 53.0, \"Estimate for Average Customer\": 0.690470511556097, \"lower\": 0.6772766645524837, \"upper\": 0.7032492874895002}, {\"timeline\": 54.0, \"Estimate for Average Customer\": 0.6857136929815187, \"lower\": 0.6723539178814393, \"upper\": 0.6986572790007199}, {\"timeline\": 55.0, \"Estimate for Average Customer\": 0.6823209369414782, \"lower\": 0.668840380360719, \"upper\": 0.6953844208282612}, {\"timeline\": 56.0, \"Estimate for Average Customer\": 0.6784330683549172, \"lower\": 0.6648106650609784, \"upper\": 0.6916372461214441}, {\"timeline\": 57.0, \"Estimate for Average Customer\": 0.6751927910135208, \"lower\": 0.6614472891464104, \"upper\": 0.6885188721810138}, {\"timeline\": 58.0, \"Estimate for Average Customer\": 0.6705796725656021, \"lower\": 0.6566540260819743, \"upper\": 0.6840840058943622}, {\"timeline\": 59.0, \"Estimate for Average Customer\": 0.6671029147039528, \"lower\": 0.6530376784372129, \"upper\": 0.6807452682464185}, {\"timeline\": 60.0, \"Estimate for Average Customer\": 0.6644039143747397, \"lower\": 0.6502267928533968, \"upper\": 0.6781567791866754}, {\"timeline\": 61.0, \"Estimate for Average Customer\": 0.6606262091046632, \"lower\": 0.6462841968422708, \"upper\": 0.6745416370566342}, {\"timeline\": 62.0, \"Estimate for Average Customer\": 0.6581445178608437, \"lower\": 0.6436882696632222, \"upper\": 0.6721723630788525}, {\"timeline\": 63.0, \"Estimate for Average Customer\": 0.6560568270825379, \"lower\": 0.6414987023418927, \"upper\": 0.6701847193256479}, {\"timeline\": 64.0, \"Estimate for Average Customer\": 0.6538497393547579, \"lower\": 0.6391766092494745, \"upper\": 0.668090317858698}, {\"timeline\": 65.0, \"Estimate for Average Customer\": 0.6485434745628794, \"lower\": 0.6335747882063961, \"upper\": 0.6630731098587361}, {\"timeline\": 66.0, \"Estimate for Average Customer\": 0.640381746422204, \"lower\": 0.6249410515971489, \"upper\": 0.6553729251824221}, {\"timeline\": 67.0, \"Estimate for Average Customer\": 0.6335980414812913, \"lower\": 0.6177440126424799, \"upper\": 0.6489931821153638}, {\"timeline\": 68.0, \"Estimate for Average Customer\": 0.626857636784682, \"lower\": 0.6105561099292072, \"upper\": 0.6426893869172589}, {\"timeline\": 69.0, \"Estimate for Average Customer\": 0.6201353028781441, \"lower\": 0.6033383740719858, \"upper\": 0.6364493769082435}, {\"timeline\": 70.0, \"Estimate for Average Customer\": 0.6096568261782064, \"lower\": 0.5920089857499321, \"upper\": 0.6267982298776328}, {\"timeline\": 71.0, \"Estimate for Average Customer\": 0.6027809973115349, \"lower\": 0.5844705956903173, \"upper\": 0.6205645127398534}, {\"timeline\": 72.0, \"Estimate for Average Customer\": 0.5927901520522275, \"lower\": 0.5730628910042918, \"upper\": 0.6119362091926619}]}}, {\"mode\": \"vega-lite\"});\n",
       "</script>"
      ],
      "text/plain": [
       "alt.LayerChart(...)"
      ]
     },
     "execution_count": 135,
     "metadata": {},
     "output_type": "execute_result"
    }
   ],
   "source": [
    "label = alt.selection_single(\n",
    "    encodings=['x'], # limit selection to x-axis value\n",
    "    on='mouseover',  # select on mouseover events\n",
    "    nearest=True,    # select data point nearest the cursor\n",
    "    empty='none'     # empty selection includes no data points\n",
    ")\n",
    "\n",
    "base = alt.Chart(data.reset_index()).encode(\n",
    "    x=alt.X('timeline:Q', scale=alt.Scale(zero=False), axis=alt.Axis(title=\"Customer tenure (months)\"))\n",
    ")\n",
    "\n",
    "line = base.mark_line(point=False).encode(\n",
    "    y=alt.Y('Estimate for Average Customer', scale=alt.Scale(zero=False), axis=alt.Axis(title='Customer survival probability')),\n",
    "    color=alt.value('blue'),\n",
    "    tooltip = ['timeline', 'Estimate for Average Customer']\n",
    ")\n",
    "\n",
    "band = alt.Chart(data.reset_index()).mark_area(\n",
    "    opacity=0.5\n",
    ").encode(\n",
    "    x=alt.X('timeline:Q', scale=alt.Scale(zero=False)),\n",
    "    y='lower:Q',\n",
    "    y2='upper:Q'\n",
    ")\n",
    "\n",
    "alt.layer(\n",
    "    line, # base line chart\n",
    "    band,\n",
    "    alt.Chart().mark_rule(color='#aaa').encode(\n",
    "        x = alt.X('timeline:Q', scale=alt.Scale(zero=False), sort=None)\n",
    "    ).transform_filter(label),\n",
    "        # add circle marks for selected time points, hide unselected points\n",
    "    base.mark_circle(size=80).encode(\n",
    "        y=alt.Y('Estimate for Average Customer', scale=alt.Scale(zero=False), axis=alt.Axis(title='Customer survival probability')),\n",
    "        opacity=alt.condition(label, alt.value(1), alt.value(0))\n",
    "    ).add_selection(label),\n",
    "        # add white stroked text to provide a legible background for labels\n",
    "    base.mark_text(align='left', dx=5, dy=-5, stroke='white', strokeWidth=2).encode(\n",
    "        text='Estimate for Average Customer:Q'\n",
    "    ).transform_filter(label),\n",
    "        # add text labels for stock prices\n",
    "    base.mark_text(align='left', dx=5, dy=-5).encode(\n",
    "        text='Estimate for Average Customer:Q'\n",
    "    ).transform_filter(label),\n",
    "    \n",
    "    data=data.reset_index()\n",
    ").properties(\n",
    "    title=f'Kaplan-Meier Survival Curve - All Customers',\n",
    "    width=600\n",
    ")"
   ]
  },
  {
   "cell_type": "code",
   "execution_count": null,
   "metadata": {},
   "outputs": [],
   "source": []
  }
 ],
 "metadata": {
  "kernelspec": {
   "display_name": "Python 3",
   "language": "python",
   "name": "python3"
  },
  "language_info": {
   "codemirror_mode": {
    "name": "ipython",
    "version": 3
   },
   "file_extension": ".py",
   "mimetype": "text/x-python",
   "name": "python",
   "nbconvert_exporter": "python",
   "pygments_lexer": "ipython3",
   "version": "3.8.2"
  }
 },
 "nbformat": 4,
 "nbformat_minor": 4
}
